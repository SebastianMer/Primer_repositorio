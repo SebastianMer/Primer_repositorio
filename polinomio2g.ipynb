{
  "nbformat": 4,
  "nbformat_minor": 0,
  "metadata": {
    "colab": {
      "name": "polinomio2g.ipynb",
      "provenance": [],
      "include_colab_link": true
    },
    "kernelspec": {
      "name": "python3",
      "display_name": "Python 3"
    }
  },
  "cells": [
    {
      "cell_type": "markdown",
      "metadata": {
        "id": "view-in-github",
        "colab_type": "text"
      },
      "source": [
        "<a href=\"https://colab.research.google.com/github/SebastianMer/Primer_repositorio/blob/master/polinomio2g.ipynb\" target=\"_parent\"><img src=\"https://colab.research.google.com/assets/colab-badge.svg\" alt=\"Open In Colab\"/></a>"
      ]
    },
    {
      "cell_type": "code",
      "metadata": {
        "colab": {
          "base_uri": "https://localhost:8080/"
        },
        "id": "hEMgwwIjOO0M",
        "outputId": "d25829fd-3f84-4317-d3db-79d521a70667"
      },
      "source": [
        "import random\r\n",
        "\r\n",
        "class polinomio():\r\n",
        "\r\n",
        "  def __init__(self,a,b,c):\r\n",
        "    self.a = a\r\n",
        "    self.b = b\r\n",
        "    self.c = c\r\n",
        "  \r\n",
        "  def suma (self, a1,b1,c1,a2,b2,c2):\r\n",
        "    coef1 = a1 + a2\r\n",
        "    coef2 = b1 + b2\r\n",
        "    coef3 = c1 + c2\r\n",
        "    print (\"\\n Su suma es:\")\r\n",
        "    print (str(coef1)+\"x^2\"+\"+\"+str(coef2)+\"x\"+\"+\"+str(coef3))\r\n",
        "  \r\n",
        "  def resta (self, a1,b1,c1,a2,b2,c2):\r\n",
        "    coef1 = a1 - a2\r\n",
        "    coef2 = b1 - b2\r\n",
        "    coef3 = c1 - c2\r\n",
        "    print (\"\\n Su resta (p1 - p2) es:\")\r\n",
        "    print (str(coef1)+\"x^2\"+\"+\"+str(coef2)+\"x\"+\"+\"+str(coef3))\r\n",
        "\r\n",
        "  def deriva (self, a1,b1,a2,b2):\r\n",
        "    coef1 = 2*a1\r\n",
        "    coef2 = b1\r\n",
        "    coef3 = 2*a2\r\n",
        "    coef4 = b2\r\n",
        "    print (\"\\n La primer derivada del primer polinomio es:\")\r\n",
        "    print (str(coef1)+\"x\"+\"+\"+str(coef2))\r\n",
        "    print (\"\\n La primer derivada del segundo polinomio es:\")\r\n",
        "    print (str(coef3)+\"x\"+\"+\"+str(coef4))\r\n",
        "\r\n",
        "  def evaluar (self, a1,b1,c1,a2,b2,c2,num):\r\n",
        "    ev1 = a1*(num*num)+b1*(num)+c1\r\n",
        "    ev2 = a2*(num*num)+b2*(num)+c2\r\n",
        "    print (\"\\n Su numero es: \" + str(num))\r\n",
        "    print (\"\\n La evaluación del primer polinomio es:\")\r\n",
        "    print (str(ev1))\r\n",
        "    print (\"\\n La evaluación del segundo polinomio es:\")\r\n",
        "    print (str(ev2))\r\n",
        "\r\n",
        "\r\n",
        "p1 = polinomio(random.randint(1,10),random.randint(1,10),random.randint(1,10))\r\n",
        "p2 = polinomio(random.randint(1,10),random.randint(1,10),random.randint(1,10))\r\n",
        "p = polinomio(0,0,0)\r\n",
        "\r\n",
        "print (\"Su primer polinomio es: \")\r\n",
        "print (str(p1.a)+\"x^2\"+\"+\"+str(p1.b)+\"x\"+\"+\"+str(p1.c))\r\n",
        "print (\"Su segundo polinomio es: \")\r\n",
        "print (str(p2.a)+\"x^2\"+\"+\"+str(p2.b)+\"x\"+\"+\"+str(p2.c))\r\n",
        "\r\n",
        "p.suma(p1.a, p1.b, p1.c, p2.a, p2.b, p2.c)\r\n",
        "p.resta(p1.a, p1.b, p1.c, p2.a, p2.b, p2.c)\r\n",
        "p.deriva(p1.a, p1.b, p2.a, p2.b)\r\n",
        "p.evaluar(p1.a, p1.b, p1.c, p2.a, p2.b, p2.c,random.randint(1,5))\r\n"
      ],
      "execution_count": null,
      "outputs": [
        {
          "output_type": "stream",
          "text": [
            "Su primer polinomio es: \n",
            "1x^2+5x+1\n",
            "Su segundo polinomio es: \n",
            "9x^2+7x+2\n",
            "\n",
            " Su suma es:\n",
            "10x^2+12x+3\n",
            "\n",
            " Su resta (p1 - p2) es:\n",
            "-8x^2+-2x+-1\n",
            "\n",
            " La primer derivada del primer polinomio es:\n",
            "2x+5\n",
            "\n",
            " La primer derivada del segundo polinomio es:\n",
            "18x+7\n",
            "\n",
            " Su numero es: 5\n",
            "\n",
            " La evaluación del primer polinomio es:\n",
            "51\n",
            "\n",
            " La evaluación del segundo polinomio es:\n",
            "262\n"
          ],
          "name": "stdout"
        }
      ]
    }
  ]
}